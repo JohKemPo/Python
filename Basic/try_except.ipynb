{
 "cells": [
  {
   "attachments": {},
   "cell_type": "markdown",
   "metadata": {},
   "source": [
    "Try e except\n"
   ]
  },
  {
   "cell_type": "code",
   "execution_count": 3,
   "metadata": {},
   "outputs": [
    {
     "name": "stdout",
     "output_type": "stream",
     "text": [
      "STR:  a\n",
      "Nao é um número\n"
     ]
    }
   ],
   "source": [
    "num_str = input('Digite um num: ')\n",
    "\n",
    "try:\n",
    "    print('STR: ', num_str)\n",
    "    num_float = float(num_str)\n",
    "    print('FLOAT: ', num_float)\n",
    "    print(f'O dobro {num_str} é {num_float * 2}')\n",
    "except:\n",
    "    print('Nao é um número')"
   ]
  }
 ],
 "metadata": {
  "kernelspec": {
   "display_name": "Python 3",
   "language": "python",
   "name": "python3"
  },
  "language_info": {
   "codemirror_mode": {
    "name": "ipython",
    "version": 3
   },
   "file_extension": ".py",
   "mimetype": "text/x-python",
   "name": "python",
   "nbconvert_exporter": "python",
   "pygments_lexer": "ipython3",
   "version": "3.10.4"
  },
  "orig_nbformat": 4,
  "vscode": {
   "interpreter": {
    "hash": "bcca0175964ae6ff584872733809f2657f3650f336a23be0033a7d18ab263a12"
   }
  }
 },
 "nbformat": 4,
 "nbformat_minor": 2
}
